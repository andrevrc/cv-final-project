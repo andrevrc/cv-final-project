{
  "cells": [
    {
      "cell_type": "markdown",
      "metadata": {
        "id": "2UnazTOeWUd-"
      },
      "source": [
        "# Classificação de Imagens"
      ]
    },
    {
      "cell_type": "code",
      "execution_count": null,
      "metadata": {
        "colab": {
          "base_uri": "https://localhost:8080/"
        },
        "id": "7VlXB_MnU7dE",
        "outputId": "45626852-0215-46d6-f3e8-d3bbc89fe692"
      },
      "outputs": [
        {
          "name": "stdout",
          "output_type": "stream",
          "text": [
            "2.15.0\n"
          ]
        }
      ],
      "source": [
        "import tensorflow as tf\n",
        "import numpy as np\n",
        "import matplotlib.pyplot as plt\n",
        "import os\n",
        "\n",
        "print(tf.__version__)"
      ]
    },
    {
      "cell_type": "code",
      "execution_count": null,
      "metadata": {
        "id": "S6JLjMbMVT89"
      },
      "outputs": [],
      "source": [
        "caminho_treinamento = \"datasets/train/\"\n",
        "caminho_validacao = \"datasets/valid/\""
      ]
    },
    {
      "cell_type": "code",
      "execution_count": null,
      "metadata": {
        "colab": {
          "base_uri": "https://localhost:8080/"
        },
        "id": "216XWWTmVXXH",
        "outputId": "80461223-1a2c-44a1-ea91-7bd78f30577c"
      },
      "outputs": [
        {
          "name": "stdout",
          "output_type": "stream",
          "text": [
            "Found 5117 files belonging to 2 classes.\n"
          ]
        }
      ],
      "source": [
        "from tensorflow.keras.preprocessing import image_dataset_from_directory\n",
        "\n",
        "ds_treinamento_ = image_dataset_from_directory(\n",
        "    caminho_treinamento,\n",
        "    labels='inferred',\n",
        "    label_mode='binary',\n",
        "    image_size=[128, 128],\n",
        "    interpolation='nearest',\n",
        "    batch_size=64,\n",
        "    shuffle=True,\n",
        ")"
      ]
    },
    {
      "cell_type": "code",
      "execution_count": null,
      "metadata": {
        "colab": {
          "base_uri": "https://localhost:8080/"
        },
        "id": "p5ZjRx_1VeJB",
        "outputId": "7fd2b1cd-1dac-48bf-8752-197444e5a4c0"
      },
      "outputs": [
        {
          "name": "stdout",
          "output_type": "stream",
          "text": [
            "Found 5051 files belonging to 2 classes.\n"
          ]
        }
      ],
      "source": [
        "ds_validacao_ = image_dataset_from_directory(\n",
        "    caminho_validacao,\n",
        "    labels='inferred',\n",
        "    label_mode='binary',\n",
        "    image_size=[128, 128],\n",
        "    interpolation='nearest',\n",
        "    batch_size=64,\n",
        "    shuffle=True,\n",
        ")\n",
        "\n",
        "num_batches = tf.data.experimental.cardinality(ds_validacao_).numpy()\n",
        "num_validacao = int(num_batches * 0.2)\n",
        "\n",
        "ds_testes_ = ds_validacao_.take(num_validacao)\n",
        "ds_validacao__ = ds_validacao_.skip(num_validacao)"
      ]
    },
    {
      "cell_type": "code",
      "execution_count": null,
      "metadata": {
        "colab": {
          "base_uri": "https://localhost:8080/"
        },
        "id": "RklYmNQnVn-I",
        "outputId": "d1dbf6e5-ca5b-480b-bc3e-7056c81d86d3"
      },
      "outputs": [
        {
          "data": {
            "text/plain": [
              "15"
            ]
          },
          "execution_count": 14,
          "metadata": {},
          "output_type": "execute_result"
        }
      ],
      "source": [
        "len(ds_testes_)"
      ]
    },
    {
      "cell_type": "code",
      "execution_count": null,
      "metadata": {
        "colab": {
          "base_uri": "https://localhost:8080/"
        },
        "id": "NrURKBwHVos8",
        "outputId": "89dffc8c-f730-4fab-e847-a15b3bac7a42"
      },
      "outputs": [
        {
          "data": {
            "text/plain": [
              "64"
            ]
          },
          "execution_count": 15,
          "metadata": {},
          "output_type": "execute_result"
        }
      ],
      "source": [
        "len(ds_validacao__)"
      ]
    },
    {
      "cell_type": "code",
      "execution_count": null,
      "metadata": {
        "id": "9WGuYzr2Vq2h"
      },
      "outputs": [],
      "source": [
        "def convert_to_float(image, label):\n",
        "    image = tf.image.convert_image_dtype(image, dtype=tf.float32)\n",
        "    return image, label\n",
        "\n",
        "AUTOTUNE = tf.data.experimental.AUTOTUNE\n",
        "\n",
        "ds_treinamento = (\n",
        "    ds_treinamento_\n",
        "    .map(convert_to_float)\n",
        "    .cache()\n",
        "    .prefetch(buffer_size=AUTOTUNE)\n",
        ")\n",
        "\n",
        "ds_validacao = (\n",
        "    ds_validacao__\n",
        "    .map(convert_to_float)\n",
        "    .cache()\n",
        "    .prefetch(buffer_size=AUTOTUNE)\n",
        ")\n",
        "\n",
        "ds_testes = (\n",
        "    ds_testes_\n",
        "    .map(convert_to_float)\n",
        "    .cache()\n",
        "    .prefetch(buffer_size=AUTOTUNE)\n",
        ")"
      ]
    },
    {
      "cell_type": "code",
      "execution_count": null,
      "metadata": {
        "id": "jtXvLeLaVtni"
      },
      "outputs": [],
      "source": [
        "from tensorflow import keras\n",
        "\n",
        "model_relu_sem_filtro = keras.Sequential([\n",
        "    keras.layers.Flatten(input_shape=(128, 128, 3)),\n",
        "    keras.layers.Dense(128, activation='relu'),\n",
        "    keras.layers.Dropout(0.3),\n",
        "    keras.layers.Dense(2, activation='softmax')\n",
        "])\n",
        "\n",
        "model_relu = keras.Sequential([\n",
        "    keras.layers.Conv2D(filters=32, kernel_size=(3,3),\n",
        "                        padding='same', input_shape=(128,128,3),\n",
        "                        activation='relu'),\n",
        "    keras.layers.MaxPool2D(pool_size=(2,2)),\n",
        "    keras.layers.Flatten(input_shape=(128, 128, 3)),\n",
        "    keras.layers.Dense(128, activation='relu'),\n",
        "    keras.layers.Dropout(0.5),\n",
        "    keras.layers.Dense(2, activation='softmax')\n",
        "])\n",
        "\n",
        "model_relu_sem_filtro.compile(optimizer='adam',\n",
        "              loss='sparse_categorical_crossentropy',\n",
        "              metrics=['accuracy'])\n",
        "\n",
        "model_relu.compile(optimizer='adam',\n",
        "              loss='sparse_categorical_crossentropy',\n",
        "              metrics=['accuracy'])\n"
      ]
    },
    {
      "cell_type": "code",
      "execution_count": null,
      "metadata": {
        "id": "dkuNK8sEe2U-"
      },
      "outputs": [],
      "source": [
        "model_sig = keras.Sequential([\n",
        "    keras.layers.Conv2D(filters=32, kernel_size=(3,3),\n",
        "                        padding='same', input_shape=(128,128,3),\n",
        "                        activation='sigmoid'),\n",
        "    keras.layers.MaxPool2D(pool_size=(2,2)),\n",
        "    keras.layers.Flatten(input_shape=(128, 128, 3)),\n",
        "    keras.layers.Dense(128, activation='sigmoid'),\n",
        "    keras.layers.Dropout(0.2),\n",
        "    keras.layers.Dense(2, activation='softmax')\n",
        "])\n",
        "\n",
        "model_sig.compile(optimizer='adam',\n",
        "              loss='sparse_categorical_crossentropy',\n",
        "              metrics=['accuracy'])\n",
        "\n",
        "\n",
        "model_tanh = keras.Sequential([\n",
        "    keras.layers.Conv2D(filters=32, kernel_size=(3,3),\n",
        "                        padding='same', input_shape=(128,128,3),\n",
        "                        activation='tanh'),\n",
        "    keras.layers.MaxPool2D(pool_size=(2,2)),\n",
        "    keras.layers.Flatten(input_shape=(128, 128, 3)),\n",
        "    keras.layers.Dense(128, activation='tanh'),\n",
        "    keras.layers.Dropout(0.2),\n",
        "    keras.layers.Dense(2, activation='softmax')\n",
        "])\n",
        "\n",
        "model_tanh.compile(optimizer='adam',\n",
        "              loss='sparse_categorical_crossentropy',\n",
        "              metrics=['accuracy'])"
      ]
    },
    {
      "cell_type": "code",
      "execution_count": null,
      "metadata": {
        "colab": {
          "base_uri": "https://localhost:8080/"
        },
        "id": "5CMo1dmzVysQ",
        "outputId": "2f35b52f-565b-4476-ab24-e112691531cc"
      },
      "outputs": [
        {
          "name": "stdout",
          "output_type": "stream",
          "text": [
            "Epoch 1/20\n",
            "80/80 [==============================] - 4s 33ms/step - loss: 1.5900 - accuracy: 0.5861 - val_loss: 0.6355 - val_accuracy: 0.6387\n",
            "Epoch 2/20\n",
            "80/80 [==============================] - 2s 26ms/step - loss: 0.6226 - accuracy: 0.6519 - val_loss: 0.6093 - val_accuracy: 0.6649\n",
            "Epoch 3/20\n",
            "80/80 [==============================] - 2s 26ms/step - loss: 0.5803 - accuracy: 0.6920 - val_loss: 0.5860 - val_accuracy: 0.6888\n",
            "Epoch 4/20\n",
            "80/80 [==============================] - 2s 29ms/step - loss: 0.5129 - accuracy: 0.7481 - val_loss: 0.5649 - val_accuracy: 0.7001\n",
            "Epoch 5/20\n",
            "80/80 [==============================] - 2s 27ms/step - loss: 0.4417 - accuracy: 0.8036 - val_loss: 0.5581 - val_accuracy: 0.7091\n",
            "Epoch 6/20\n",
            "80/80 [==============================] - 2s 26ms/step - loss: 0.3644 - accuracy: 0.8501 - val_loss: 0.5584 - val_accuracy: 0.7184\n",
            "Epoch 7/20\n",
            "80/80 [==============================] - 2s 26ms/step - loss: 0.2881 - accuracy: 0.8833 - val_loss: 0.5843 - val_accuracy: 0.7169\n",
            "Epoch 8/20\n",
            "80/80 [==============================] - 2s 26ms/step - loss: 0.2358 - accuracy: 0.9089 - val_loss: 0.6073 - val_accuracy: 0.7084\n",
            "Epoch 9/20\n",
            "80/80 [==============================] - 2s 26ms/step - loss: 0.2099 - accuracy: 0.9205 - val_loss: 0.5946 - val_accuracy: 0.7162\n",
            "Epoch 10/20\n",
            "80/80 [==============================] - 2s 29ms/step - loss: 0.1901 - accuracy: 0.9277 - val_loss: 0.6200 - val_accuracy: 0.7001\n",
            "Epoch 11/20\n",
            "80/80 [==============================] - 2s 28ms/step - loss: 0.1636 - accuracy: 0.9384 - val_loss: 0.8386 - val_accuracy: 0.6663\n",
            "Epoch 12/20\n",
            "80/80 [==============================] - 2s 26ms/step - loss: 0.1589 - accuracy: 0.9380 - val_loss: 0.8272 - val_accuracy: 0.6869\n",
            "Epoch 13/20\n",
            "80/80 [==============================] - 2s 26ms/step - loss: 0.1095 - accuracy: 0.9619 - val_loss: 0.8439 - val_accuracy: 0.6976\n",
            "Epoch 14/20\n",
            "80/80 [==============================] - 2s 26ms/step - loss: 0.0927 - accuracy: 0.9672 - val_loss: 0.8957 - val_accuracy: 0.7108\n",
            "Epoch 15/20\n",
            "80/80 [==============================] - 2s 26ms/step - loss: 0.0777 - accuracy: 0.9750 - val_loss: 0.8613 - val_accuracy: 0.7177\n",
            "Epoch 16/20\n",
            "80/80 [==============================] - 2s 30ms/step - loss: 0.0630 - accuracy: 0.9793 - val_loss: 0.9630 - val_accuracy: 0.7169\n",
            "Epoch 17/20\n",
            "80/80 [==============================] - 3s 34ms/step - loss: 0.0532 - accuracy: 0.9820 - val_loss: 0.9424 - val_accuracy: 0.7228\n",
            "Epoch 18/20\n",
            "80/80 [==============================] - 2s 26ms/step - loss: 0.0516 - accuracy: 0.9824 - val_loss: 1.1031 - val_accuracy: 0.7133\n",
            "Epoch 19/20\n",
            "80/80 [==============================] - 2s 26ms/step - loss: 0.0403 - accuracy: 0.9869 - val_loss: 1.1804 - val_accuracy: 0.7199\n",
            "Epoch 20/20\n",
            "80/80 [==============================] - 2s 26ms/step - loss: 0.0370 - accuracy: 0.9906 - val_loss: 1.1202 - val_accuracy: 0.7174\n"
          ]
        }
      ],
      "source": [
        "dados_treinamento = model_relu.fit(ds_treinamento, epochs=20, validation_data=ds_validacao)"
      ]
    },
    {
      "cell_type": "code",
      "execution_count": null,
      "metadata": {
        "colab": {
          "base_uri": "https://localhost:8080/"
        },
        "id": "NiC94_RAY77i",
        "outputId": "8786b908-26d3-4885-9442-df3b9a1df52e"
      },
      "outputs": [
        {
          "name": "stdout",
          "output_type": "stream",
          "text": [
            "Epoch 1/30\n",
            "80/80 [==============================] - 1s 7ms/step - loss: 1.7711 - accuracy: 0.5753\n",
            "Epoch 2/30\n",
            "80/80 [==============================] - 1s 7ms/step - loss: 0.7008 - accuracy: 0.5364\n",
            "Epoch 3/30\n",
            "80/80 [==============================] - 1s 7ms/step - loss: 0.7007 - accuracy: 0.5441\n",
            "Epoch 4/30\n",
            "80/80 [==============================] - 1s 7ms/step - loss: 0.6991 - accuracy: 0.5490\n",
            "Epoch 5/30\n",
            "80/80 [==============================] - 1s 7ms/step - loss: 0.6954 - accuracy: 0.5558\n",
            "Epoch 6/30\n",
            "80/80 [==============================] - 1s 7ms/step - loss: 0.6918 - accuracy: 0.5572\n",
            "Epoch 7/30\n",
            "80/80 [==============================] - 1s 7ms/step - loss: 0.6908 - accuracy: 0.5622\n",
            "Epoch 8/30\n",
            "80/80 [==============================] - 1s 7ms/step - loss: 0.6927 - accuracy: 0.5515\n",
            "Epoch 9/30\n",
            "80/80 [==============================] - 1s 7ms/step - loss: 0.6859 - accuracy: 0.5663\n",
            "Epoch 10/30\n",
            "80/80 [==============================] - 1s 8ms/step - loss: 0.6891 - accuracy: 0.5607\n",
            "Epoch 11/30\n",
            "80/80 [==============================] - 1s 8ms/step - loss: 0.6876 - accuracy: 0.5665\n",
            "Epoch 12/30\n",
            "80/80 [==============================] - 1s 8ms/step - loss: 0.6876 - accuracy: 0.5671\n",
            "Epoch 13/30\n",
            "80/80 [==============================] - 1s 8ms/step - loss: 0.6854 - accuracy: 0.5652\n",
            "Epoch 14/30\n",
            "80/80 [==============================] - 1s 8ms/step - loss: 0.6862 - accuracy: 0.5706\n",
            "Epoch 15/30\n",
            "80/80 [==============================] - 1s 7ms/step - loss: 0.6851 - accuracy: 0.5693\n",
            "Epoch 16/30\n",
            "80/80 [==============================] - 1s 7ms/step - loss: 0.6844 - accuracy: 0.5777\n",
            "Epoch 17/30\n",
            "80/80 [==============================] - 1s 7ms/step - loss: 0.6830 - accuracy: 0.5781\n",
            "Epoch 18/30\n",
            "80/80 [==============================] - 1s 7ms/step - loss: 0.6822 - accuracy: 0.5765\n",
            "Epoch 19/30\n",
            "80/80 [==============================] - 1s 7ms/step - loss: 0.6834 - accuracy: 0.5763\n",
            "Epoch 20/30\n",
            "80/80 [==============================] - 1s 6ms/step - loss: 0.6833 - accuracy: 0.5785\n",
            "Epoch 21/30\n",
            "80/80 [==============================] - 1s 7ms/step - loss: 0.6829 - accuracy: 0.5781\n",
            "Epoch 22/30\n",
            "80/80 [==============================] - 1s 7ms/step - loss: 0.6830 - accuracy: 0.5794\n",
            "Epoch 23/30\n",
            "80/80 [==============================] - 1s 7ms/step - loss: 0.6839 - accuracy: 0.5757\n",
            "Epoch 24/30\n",
            "80/80 [==============================] - 1s 7ms/step - loss: 0.6850 - accuracy: 0.5765\n",
            "Epoch 25/30\n",
            "80/80 [==============================] - 1s 7ms/step - loss: 0.6819 - accuracy: 0.5785\n",
            "Epoch 26/30\n",
            "80/80 [==============================] - 1s 7ms/step - loss: 0.6842 - accuracy: 0.5783\n",
            "Epoch 27/30\n",
            "80/80 [==============================] - 1s 7ms/step - loss: 0.6822 - accuracy: 0.5789\n",
            "Epoch 28/30\n",
            "80/80 [==============================] - 1s 7ms/step - loss: 0.6835 - accuracy: 0.5787\n",
            "Epoch 29/30\n",
            "80/80 [==============================] - 1s 7ms/step - loss: 0.6831 - accuracy: 0.5785\n",
            "Epoch 30/30\n",
            "80/80 [==============================] - 1s 7ms/step - loss: 0.6823 - accuracy: 0.5787\n"
          ]
        },
        {
          "data": {
            "text/plain": [
              "<keras.src.callbacks.History at 0x7f8a783d2650>"
            ]
          },
          "execution_count": 22,
          "metadata": {},
          "output_type": "execute_result"
        }
      ],
      "source": [
        "model_sig.fit(ds_treinamento, epochs=30)"
      ]
    },
    {
      "cell_type": "code",
      "execution_count": null,
      "metadata": {
        "colab": {
          "base_uri": "https://localhost:8080/"
        },
        "id": "W5g1dr5RY-dH",
        "outputId": "d53e4794-2fef-4650-b374-38d2a30f8b80"
      },
      "outputs": [
        {
          "name": "stdout",
          "output_type": "stream",
          "text": [
            "Epoch 1/30\n",
            "80/80 [==============================] - 1s 7ms/step - loss: 5.3764 - accuracy: 0.4292\n",
            "Epoch 2/30\n",
            "80/80 [==============================] - 1s 7ms/step - loss: 0.7297 - accuracy: 0.5368\n",
            "Epoch 3/30\n",
            "80/80 [==============================] - 1s 7ms/step - loss: 0.7199 - accuracy: 0.5359\n",
            "Epoch 4/30\n",
            "80/80 [==============================] - 1s 7ms/step - loss: 0.7184 - accuracy: 0.5310\n",
            "Epoch 5/30\n",
            "80/80 [==============================] - 1s 7ms/step - loss: 0.7118 - accuracy: 0.5495\n",
            "Epoch 6/30\n",
            "80/80 [==============================] - 1s 7ms/step - loss: 0.7136 - accuracy: 0.5368\n",
            "Epoch 7/30\n",
            "80/80 [==============================] - 1s 7ms/step - loss: 0.7086 - accuracy: 0.5402\n",
            "Epoch 8/30\n",
            "80/80 [==============================] - 1s 7ms/step - loss: 0.7091 - accuracy: 0.5331\n",
            "Epoch 9/30\n",
            "80/80 [==============================] - 1s 7ms/step - loss: 0.7051 - accuracy: 0.5439\n",
            "Epoch 10/30\n",
            "80/80 [==============================] - 1s 7ms/step - loss: 0.7095 - accuracy: 0.5255\n",
            "Epoch 11/30\n",
            "80/80 [==============================] - 1s 7ms/step - loss: 0.7050 - accuracy: 0.5372\n",
            "Epoch 12/30\n",
            "80/80 [==============================] - 1s 7ms/step - loss: 0.6982 - accuracy: 0.5433\n",
            "Epoch 13/30\n",
            "80/80 [==============================] - 1s 7ms/step - loss: 0.7033 - accuracy: 0.5413\n",
            "Epoch 14/30\n",
            "80/80 [==============================] - 1s 7ms/step - loss: 0.6932 - accuracy: 0.5505\n",
            "Epoch 15/30\n",
            "80/80 [==============================] - 1s 7ms/step - loss: 0.6938 - accuracy: 0.5497\n",
            "Epoch 16/30\n",
            "80/80 [==============================] - 1s 7ms/step - loss: 0.6920 - accuracy: 0.5536\n",
            "Epoch 17/30\n",
            "80/80 [==============================] - 1s 8ms/step - loss: 0.6895 - accuracy: 0.5568\n",
            "Epoch 18/30\n",
            "80/80 [==============================] - 1s 8ms/step - loss: 0.6883 - accuracy: 0.5642\n",
            "Epoch 19/30\n",
            "80/80 [==============================] - 1s 7ms/step - loss: 0.6868 - accuracy: 0.5669\n",
            "Epoch 20/30\n",
            "80/80 [==============================] - 1s 7ms/step - loss: 0.6879 - accuracy: 0.5634\n",
            "Epoch 21/30\n",
            "80/80 [==============================] - 1s 7ms/step - loss: 0.6832 - accuracy: 0.5769\n",
            "Epoch 22/30\n",
            "80/80 [==============================] - 1s 7ms/step - loss: 0.6894 - accuracy: 0.5669\n",
            "Epoch 23/30\n",
            "80/80 [==============================] - 1s 7ms/step - loss: 0.6871 - accuracy: 0.5646\n",
            "Epoch 24/30\n",
            "80/80 [==============================] - 1s 7ms/step - loss: 0.6857 - accuracy: 0.5712\n",
            "Epoch 25/30\n",
            "80/80 [==============================] - 1s 7ms/step - loss: 0.6859 - accuracy: 0.5697\n",
            "Epoch 26/30\n",
            "80/80 [==============================] - 1s 7ms/step - loss: 0.6854 - accuracy: 0.5699\n",
            "Epoch 27/30\n",
            "80/80 [==============================] - 1s 7ms/step - loss: 0.6854 - accuracy: 0.5728\n",
            "Epoch 28/30\n",
            "80/80 [==============================] - 1s 7ms/step - loss: 0.6864 - accuracy: 0.5746\n",
            "Epoch 29/30\n",
            "80/80 [==============================] - 1s 6ms/step - loss: 0.6848 - accuracy: 0.5769\n",
            "Epoch 30/30\n",
            "80/80 [==============================] - 1s 7ms/step - loss: 0.6863 - accuracy: 0.5775\n"
          ]
        },
        {
          "data": {
            "text/plain": [
              "<keras.src.callbacks.History at 0x7f8a003992a0>"
            ]
          },
          "execution_count": 23,
          "metadata": {},
          "output_type": "execute_result"
        }
      ],
      "source": [
        "model_tanh.fit(ds_treinamento, epochs=30)"
      ]
    },
    {
      "cell_type": "code",
      "execution_count": null,
      "metadata": {
        "colab": {
          "base_uri": "https://localhost:8080/"
        },
        "id": "g01m2rK3VzxT",
        "outputId": "9b099eb0-e522-4192-c066-0ec399298be5"
      },
      "outputs": [
        {
          "name": "stdout",
          "output_type": "stream",
          "text": [
            "15/15 - 0s - loss: 1.0882 - accuracy: 0.7354 - 135ms/epoch - 9ms/step\n",
            "15/15 - 0s - loss: 0.7218 - accuracy: 0.5896 - 81ms/epoch - 5ms/step\n",
            "15/15 - 0s - loss: 0.8103 - accuracy: 0.4396 - 78ms/epoch - 5ms/step\n"
          ]
        }
      ],
      "source": [
        "test_loss1, test_acc1 = model_relu.evaluate(ds_testes, verbose=2)\n",
        "test_loss2, test_acc2 = model_sig.evaluate(ds_testes, verbose=2)\n",
        "test_loss3, test_acc3 = model_tanh.evaluate(ds_testes, verbose=2)"
      ]
    },
    {
      "cell_type": "markdown",
      "metadata": {
        "id": "wH8tcV5UZTW5"
      },
      "source": [
        "Aparentemente, quando usamos a função de ativação \"relu\", tivemos melhores valores de acurácia."
      ]
    },
    {
      "cell_type": "code",
      "execution_count": null,
      "metadata": {
        "id": "oQhsCkTubgEp"
      },
      "outputs": [],
      "source": [
        "model_relu.save('modelo_classification_relu_cars_with_filters_v2.keras')"
      ]
    },
    {
      "cell_type": "code",
      "execution_count": null,
      "metadata": {
        "colab": {
          "base_uri": "https://localhost:8080/",
          "height": 489
        },
        "id": "T6TBAbVDcbcq",
        "outputId": "f68613af-deec-4d59-ea98-0f7236d9811d"
      },
      "outputs": [
        {
          "data": {
            "image/png": "[encoded data removed]",
            "text/plain": [
              "<Figure size 1200x500 with 2 Axes>"
            ]
          },
          "metadata": {},
          "output_type": "display_data"
        }
      ],
      "source": [
        "plt.figure(figsize=(12, 5))\n",
        "\n",
        "# Acurácia\n",
        "plt.subplot(1, 2, 1)\n",
        "plt.plot(dados_treinamento.history['accuracy'], label='Treinamento')\n",
        "plt.plot(dados_treinamento.history['val_accuracy'], label='Validação')\n",
        "plt.title('Acurácia')\n",
        "plt.xlabel('Épocas')\n",
        "plt.ylabel('Acurácia')\n",
        "plt.legend()\n",
        "\n",
        "# Perda\n",
        "plt.subplot(1, 2, 2)\n",
        "plt.plot(dados_treinamento.history['loss'], label='Treinamento')\n",
        "plt.plot(dados_treinamento.history['val_loss'], label='Validação')\n",
        "plt.title('Perda')\n",
        "plt.xlabel('Épocas')\n",
        "plt.ylabel('Perda')\n",
        "plt.legend()\n",
        "\n",
        "plt.show()\n"
      ]
    },
    {
      "cell_type": "code",
      "execution_count": null,
      "metadata": {
        "colab": {
          "base_uri": "https://localhost:8080/",
          "height": 978
        },
        "id": "hm4Owbe_jwNz",
        "outputId": "7277bde1-c446-4791-ad48-7b692f7794c2"
      },
      "outputs": [
        {
          "name": "stdout",
          "output_type": "stream",
          "text": [
            "2/2 [==============================] - 0s 8ms/step\n",
            "2/2 [==============================] - 0s 10ms/step\n",
            "2/2 [==============================] - 0s 7ms/step\n",
            "2/2 [==============================] - 0s 15ms/step\n",
            "2/2 [==============================] - 0s 11ms/step\n",
            "2/2 [==============================] - 0s 12ms/step\n",
            "2/2 [==============================] - 0s 11ms/step\n",
            "2/2 [==============================] - 0s 7ms/step\n",
            "2/2 [==============================] - 0s 10ms/step\n",
            "2/2 [==============================] - 0s 12ms/step\n",
            "2/2 [==============================] - 0s 6ms/step\n",
            "2/2 [==============================] - 0s 5ms/step\n",
            "2/2 [==============================] - 0s 7ms/step\n",
            "2/2 [==============================] - 0s 7ms/step\n",
            "2/2 [==============================] - 0s 6ms/step\n"
          ]
        },
        {
          "data": {
            "image/png": "[encoded data removed]",
            "text/plain": [
              "<Figure size 1000x800 with 2 Axes>"
            ]
          },
          "metadata": {},
          "output_type": "display_data"
        }
      ],
      "source": [
        "from sklearn.metrics import confusion_matrix\n",
        "import seaborn as sns\n",
        "\n",
        "# Fazer previsões no dataset de teste\n",
        "y_pred = []\n",
        "y_true = []\n",
        "\n",
        "for images, labels in ds_testes:\n",
        "    predictions = model_relu.predict(images)\n",
        "    predicted_classes = tf.argmax(predictions, axis=1)\n",
        "    y_pred.extend(predicted_classes.numpy())\n",
        "    y_true.extend(labels.numpy())\n",
        "\n",
        "#predictions = model_relu.predict(ds_testes)\n",
        "#predicted_labels = np.argmax(predictions, axis=1)\n",
        "\n",
        "# Matriz de confusão\n",
        "conf_matrix = confusion_matrix(y_true, y_pred)\n",
        "plt.figure(figsize=(10, 8))\n",
        "sns.heatmap(conf_matrix, annot=True, fmt='d', cmap='Blues',\n",
        "            xticklabels=['Car', 'Truck'],\n",
        "            yticklabels=['Car', 'Truck'])\n",
        "plt.title('Matriz de Confusão')\n",
        "plt.xlabel('Predito')\n",
        "plt.ylabel('Real')\n",
        "plt.show()"
      ]
    }
  ],
  "metadata": {
    "colab": {
      "provenance": []
    },
    "kernelspec": {
      "display_name": "Python 3",
      "name": "python3"
    },
    "language_info": {
      "name": "python"
    }
  },
  "nbformat": 4,
  "nbformat_minor": 0
}
